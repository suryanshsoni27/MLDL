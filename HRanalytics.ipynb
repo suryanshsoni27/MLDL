{
  "nbformat": 4,
  "nbformat_minor": 0,
  "metadata": {
    "colab": {
      "name": "HRanalytics.ipynb",
      "private_outputs": true,
      "provenance": [],
      "collapsed_sections": [],
      "authorship_tag": "ABX9TyPVfIQHpsP9QP+ySAFfg0bQ",
      "include_colab_link": true
    },
    "kernelspec": {
      "name": "python3",
      "display_name": "Python 3"
    },
    "language_info": {
      "name": "python"
    }
  },
  "cells": [
    {
      "cell_type": "markdown",
      "metadata": {
        "id": "view-in-github",
        "colab_type": "text"
      },
      "source": [
        "<a href=\"https://colab.research.google.com/github/suryanshsoni27/machinelearningmodels/blob/main/HRanalytics.ipynb\" target=\"_parent\"><img src=\"https://colab.research.google.com/assets/colab-badge.svg\" alt=\"Open In Colab\"/></a>"
      ]
    },
    {
      "cell_type": "code",
      "metadata": {
        "id": "vifiQtbjTEKA"
      },
      "source": [
        "import pandas as pd\n",
        "import numpy as np\n",
        "import sklearn\n",
        "import tensorflow as tf\n"
      ],
      "execution_count": null,
      "outputs": []
    },
    {
      "cell_type": "code",
      "metadata": {
        "id": "LlKBTeCaWGNf"
      },
      "source": [
        "data = pd.read_csv(\"/content/HR analytics.csv\")"
      ],
      "execution_count": null,
      "outputs": []
    },
    {
      "cell_type": "code",
      "metadata": {
        "id": "0EsiGpAgWO-8"
      },
      "source": [
        "data.head()\n"
      ],
      "execution_count": null,
      "outputs": []
    },
    {
      "cell_type": "code",
      "metadata": {
        "id": "gBYpdd0-XoNA"
      },
      "source": [
        "data.info()"
      ],
      "execution_count": null,
      "outputs": []
    },
    {
      "cell_type": "code",
      "metadata": {
        "id": "FEd1_cFRWgQr"
      },
      "source": [
        "from sklearn import preprocessing\n",
        "le = preprocessing.LabelEncoder()\n",
        "# data['Employee_1D'] = preprocessing.normalize(data)\n",
        "\n",
        "le.fit(data['city'])\n",
        "list(le.classes_)\n",
        "data['city'] = le.transform(data['city'])\n",
        "\n",
        "\n",
        "le.fit(data['HR Analytics'])\n",
        "list(le.classes_)\n",
        "data['HR Analytics'] = le.transform(data['HR Analytics'])\n",
        "\n",
        "\n",
        "\n",
        "le.fit(data['University Grade'])\n",
        "list(le.classes_)\n",
        "data['University Grade'] = le.transform(data['University Grade'])\n",
        "\n",
        "\n",
        "\n",
        "le.fit(data['Has HR expereince'])\n",
        "list(le.classes_)\n",
        "data['Has HR expereince'] = le.transform(data['Has HR expereince'])\n",
        "\n",
        "\n",
        "\n",
        "\n",
        "for i in range(len(data['education_level'])):\n",
        "  if type(data['education_level'][i]) == float:\n",
        "    data['education_level'][i] = \"nothing\"\n",
        "\n",
        "\n",
        "\n",
        "for i in range(len(data['gender'])):\n",
        "  if type(data['gender'][i]) == float:\n",
        "    data['gender'][i] = \"nothing\"\n",
        "\n",
        "   \n",
        "\n",
        "\n",
        "for i in range(len(data['experience'])):\n",
        "  if data['experience'][i] == \"<1\":\n",
        "    data['experience'][i] = '0'\n",
        "  if data['experience'][i] == \"NaN\":\n",
        "    data['experience'][i] = '0'\n",
        "  if data['experience'][i] == \">20\":\n",
        "    data['experience'][i] = '21'\n",
        "  \n",
        "\n",
        "le.fit(data['education_level'])\n",
        "list(le.classes_)\n",
        "data['education_level'] = le.transform(data['education_level'])\n",
        "\n",
        "\n",
        "\n",
        "\n",
        "le.fit(data['gender'])\n",
        "list(le.classes_)\n",
        "data['gender'] = le.transform(data['gender'])\n",
        "data\n",
        "\n",
        "\n",
        "\n",
        "for i in range(len(data['Job changes'])):\n",
        "  if data['Job changes'][i] == 'never':\n",
        "    data['Job changes'][i] = 0\n",
        "  \n",
        "  if data['Job changes'][i] == '>4':\n",
        "    data['Job changes'][i] = 5\n",
        "\n",
        "\n",
        "  \n",
        "  \n",
        "\n",
        "  \n",
        "  print(data['Job changes'][i])\n",
        "  \n",
        "\n",
        "  \n",
        "\n",
        "\n",
        "\n",
        "le.fit(data['Job changes'])\n",
        "list(le.classes_)\n",
        "data['Job changes'] = le.transform(data['Job changes'])\n",
        "\n",
        "\n",
        "# le.fit(data['company_size'])\n",
        "# list(le.classes_)\n",
        "# data['company_size'] = le.transform(data['company_size'])\n",
        "\n",
        "# le.fit(data['company_size'])\n",
        "# list(le.classes_)\n",
        "# data['company_size'] = le.transform(data['company_size'])\n",
        "\n",
        "\n",
        "\n",
        "\n",
        "# data['Employee_1D'] = nm(data['Employee_1D'])"
      ],
      "execution_count": null,
      "outputs": []
    },
    {
      "cell_type": "code",
      "metadata": {
        "id": "hQYuV6AnasAg"
      },
      "source": [
        "data\n"
      ],
      "execution_count": null,
      "outputs": []
    },
    {
      "cell_type": "code",
      "metadata": {
        "id": "tTDHA1MfbX1l"
      },
      "source": [
        ""
      ],
      "execution_count": null,
      "outputs": []
    }
  ]
}