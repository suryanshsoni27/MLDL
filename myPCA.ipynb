{
 "cells": [
  {
   "cell_type": "code",
   "execution_count": 99,
   "metadata": {},
   "outputs": [],
   "source": [
    "import numpy as np\n",
    "import pandas as pd\n",
    "import matplotlib.pyplot as plt\n",
    "\n",
    "dataset = pd.read_csv('Wine.csv')\n",
    "X = dataset.iloc[:,:-1].values\n",
    "y = dataset.iloc[:,-1].values\n",
    "\n",
    "from sklearn.model_selection import train_test_split as tts\n",
    "from sklearn.decomposition import PCA\n",
    "from sklearn.linear_model import LogisticRegression\n",
    "X_train,X_test,y_train,y_test = tts(X,y,test_size = 0.2, random_state = 0)\n",
    "\n",
    "\n",
    "\n",
    "\n",
    "\n",
    "from sklearn.preprocessing import StandardScaler\n",
    "sc = StandardScaler()\n",
    "X = sc.fit_transform(X)"
   ]
  },
  {
   "cell_type": "code",
   "execution_count": 101,
   "metadata": {
    "tags": []
   },
   "outputs": [
    {
     "output_type": "stream",
     "name": "stdout",
     "text": "[[ 3.17929962e+02  1.28454239e+01]\n [-2.62103998e+02  1.61899572e+01]\n [-3.22487166e+02 -7.95816761e+00]\n [ 3.77870540e+02  9.95827714e+00]\n [-3.62517629e+02 -8.29057439e+00]\n [-2.77024951e+02  2.34562656e+01]\n [ 5.52935221e+02  1.21195212e+01]\n [-2.22496420e+02 -8.47961086e+00]\n [-2.32618821e+02 -1.63955327e+01]\n [-2.62600422e+02 -1.49301055e+01]\n [ 3.74826990e+01 -1.16499782e+01]\n [-3.27611470e+02 -1.48424800e+01]\n [ 7.07787765e+02  6.48630004e-01]\n [-8.25025926e+01 -1.07774278e+01]\n [ 7.72862876e+00  4.91944416e+00]\n [-4.64490295e+02 -6.72479909e+00]\n [ 4.93111128e+02  2.40982191e+01]\n [ 9.37689818e+02 -6.97047562e+00]\n [-2.92276622e+02  4.54355617e+00]\n [ 5.22514010e+02 -1.43909380e+01]\n [-2.40619559e+02 -1.83031922e+01]\n [ 3.62590404e+02 -7.85466252e+00]\n [-7.05039313e+00  1.80617400e+01]\n [-7.05702996e+01 -1.39569382e+01]\n [-6.22972468e+01  1.85431792e+00]\n [-4.17476774e+02 -5.44354425e+00]\n [-3.90507741e+02 -7.84795863e+00]\n [-2.47479401e+02 -6.11439087e+00]\n [-1.35272605e+02  5.07653502e+00]\n [-1.27476922e+02 -7.95956822e+00]\n [ 4.52510534e+02 -1.43057640e+01]\n [ 2.27946831e+02  1.42815983e+01]\n [-1.62648428e+02 -1.74654518e+01]\n [ 3.37800628e+02  5.56323892e+00]\n [ 3.02609961e+02 -7.94302902e+00]\n [ 1.42775120e+02  4.62982209e+00]]\n"
    }
   ],
   "source": [
    "pca = PCA(n_components = 2)\n",
    "\n",
    "X_train = pca.fit_transform(X_train)\n",
    "X_test= pca.transform(X_test)\n",
    "explained_variance = pca.explained_variance_ratio_explained_variance = pca.explained_variance_ratio_\n",
    "print(X_test)"
   ]
  },
  {
   "cell_type": "code",
   "execution_count": 102,
   "metadata": {},
   "outputs": [
    {
     "output_type": "execute_result",
     "data": {
      "text/plain": "LogisticRegression(C=1.0, class_weight=None, dual=False, fit_intercept=True,\n                   intercept_scaling=1, l1_ratio=None, max_iter=100,\n                   multi_class='warn', n_jobs=None, penalty='l2',\n                   random_state=0, solver='warn', tol=0.0001, verbose=0,\n                   warm_start=False)"
     },
     "metadata": {},
     "execution_count": 102
    }
   ],
   "source": [
    "lr = LogisticRegression(random_state = 0)\n",
    "lr.fit(X_train,y_train)"
   ]
  },
  {
   "cell_type": "code",
   "execution_count": 103,
   "metadata": {},
   "outputs": [],
   "source": [
    "y_pred = lr.predict(X_test)"
   ]
  },
  {
   "cell_type": "code",
   "execution_count": 104,
   "metadata": {
    "tags": []
   },
   "outputs": [
    {
     "output_type": "stream",
     "name": "stdout",
     "text": "[[13  0  1]\n [ 0 16  0]\n [ 1  4  1]]\n0.8333333333333334\n"
    }
   ],
   "source": [
    "from sklearn.metrics import confusion_matrix,accuracy_score\n",
    "cm = confusion_matrix(y_test, y_pred)\n",
    "score = accuracy_score(y_test,y_pred)\n",
    "print(cm)\n",
    "print(score)\n"
   ]
  },
  {
   "cell_type": "code",
   "execution_count": null,
   "metadata": {},
   "outputs": [],
   "source": []
  },
  {
   "cell_type": "code",
   "execution_count": null,
   "metadata": {},
   "outputs": [],
   "source": []
  }
 ],
 "metadata": {
  "language_info": {
   "codemirror_mode": {
    "name": "ipython",
    "version": 3
   },
   "file_extension": ".py",
   "mimetype": "text/x-python",
   "name": "python",
   "nbconvert_exporter": "python",
   "pygments_lexer": "ipython3",
   "version": 3
  },
  "orig_nbformat": 2,
  "kernelspec": {
   "name": "python_defaultSpec_1593496190622",
   "display_name": "Python 3.7.3 64-bit ('MLwork': venv)"
  }
 },
 "nbformat": 4,
 "nbformat_minor": 2
}